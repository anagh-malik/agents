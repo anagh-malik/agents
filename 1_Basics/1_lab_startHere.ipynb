{
 "cells": [
  {
   "cell_type": "markdown",
   "id": "43a5f0a4",
   "metadata": {},
   "source": [
    "# **Welcome to the *Agentic AI* guide**\n",
    "## Before getting to the coding part, do the following: -\n",
    "- Download Cursor IDE for easier coding : [Cursor](https://cursor.com/home?from=agents).\n",
    "- Clone this repo: -\n",
    "  1. Download Github Desktop - [Here](https://desktop.github.com/download/)\n",
    "  2. Click Clone → Choose URL → Paste this link - [https://github.com/anagh-malik/agents](https://github.com/anagh-malik/agents)\n",
    "  3. Choose a secure folder, below where it says path\n",
    "  4. Submit it, click clone button\n",
    "  5. Open that folder in cursor, and continue below\n",
    "- Download UV package manager : [Here](https://docs.astral.sh/uv/getting-started/installation/).\n",
    "  - After install, open cursor and click view in right upper area, in the dropdown click **Terminal**\n",
    "  - Run the command : `uv sync`, in the terminal\n",
    "- Get an api key at - [OpenAI.ApiPlatform](https://platform.openai.com/api-keys), click create new secret key and reply to what it prompts/asks you.\n",
    "- Create a new file in cursor, name it exactly `.env`. \n",
    "  - Set api keys in a .env file, use the following format: `OPENAI_API_KEY=<your api key here>`.\n",
    "- Wherever in this guide, I ask you to make a project, please store it in the [your_projects](your_projects/) folder"
   ]
  },
  {
   "cell_type": "markdown",
   "id": "0e63891d",
   "metadata": {},
   "source": [
    "## Congrats, now to the boring **theoretical** part, I'll keep it short and simple: -\n",
    "### 1. What are Agents?\n",
    "- An AI agent is a computer program that can observe its environment, make decisions, and take actions to achieve a goal."
   ]
  },
  {
   "cell_type": "markdown",
   "id": "d009db44",
   "metadata": {},
   "source": [
    "### 2. Difference between them and normal Generative AI (Gen AI)\n",
    "\n",
    "| Aspect             | Generative AI (Gen AI)                                   | Agentic AI (AI Agents)                              |\n",
    "|--------------------|-----------------------------------------------------------|-----------------------------------------------------|\n",
    "| Main Goal          | Creates new content (text, images, code, etc.)            | Acts to achieve goals by making decisions and taking steps |\n",
    "| Core Ability       | Generation and transformation of data                     | Autonomy, reasoning, planning, and tool usage       |\n",
    "| Input → Output     | Prompt → Output                                           | Goal/Task → Sequence of actions + results           |\n",
    "| Example Models     | GPT, DALL·E, Stable Diffusion                             | AutoGPT, LangChain Agents, BabyAGI                  |\n",
    "| Dependence on User | Needs human prompts every time                            | Can operate semi-independently once given a goal    |\n",
    "| Scope              | Focused on content creation                               | Broader: can create, fetch info, run tools, call APIs|\n"
   ]
  },
  {
   "cell_type": "markdown",
   "id": "c376c7dd",
   "metadata": {},
   "source": [
    "<table>\n",
    "    <tr>\n",
    "        <td>\n",
    "            <img src=\"assets/3_openapi.png\" style=\"display: block;\">\n",
    "        </td>\n",
    "        <td>\n",
    "            <h2>Now, before getting to the complex coding part, let me explain you simply how <b>OpenAI's API</b> works, don't get mesmerized by that word</h2>\n",
    "            <h3>APIs are basically services which can be called through code, now here we are talking about OpenAI's service of sending messages and getting reply to them</h3>\n",
    "            <h3>In this guide you will learn to code in <i>Python</i>, so let me teach you how to code OpenAI's api with line to line explanation.</h3> \n",
    "        </td>\n",
    "    </tr>\n",
    "</table>"
   ]
  },
  {
   "cell_type": "code",
   "execution_count": 1,
   "id": "d707be8c",
   "metadata": {},
   "outputs": [],
   "source": [
    "# Before coding, let's import the necessary libraries\n",
    "import os\n",
    "from openai import OpenAI\n",
    "from dotenv import load_dotenv"
   ]
  },
  {
   "cell_type": "markdown",
   "id": "8fdc348d",
   "metadata": {},
   "source": [
    "## Each of these libraries are necessary for the code to work, let me explain each of them: -\n",
    "1. `os` - This is used to access files on your computer, here we will use it to access our .env file.\n",
    "2. `openai` - This is the main library to interact with OpenAI's api.\n",
    "3. `dotenv` - This is used to load the environment variables from the .env file, that you had created earlier.\n",
    "### Now, let's load the environment variables"
   ]
  },
  {
   "cell_type": "code",
   "execution_count": 4,
   "id": "5e12cf50",
   "metadata": {},
   "outputs": [
    {
     "data": {
      "text/plain": [
       "False"
      ]
     },
     "execution_count": 4,
     "metadata": {},
     "output_type": "execute_result"
    }
   ],
   "source": [
    "load_dotenv(override=True)\n",
    "# It loads the .env file and makes the environment variables available to the code.\n",
    "# The override=True is used to override the environment variables the false it may return if you haven't made the .env file."
   ]
  },
  {
   "cell_type": "code",
   "execution_count": 3,
   "id": "7fbe9d27",
   "metadata": {},
   "outputs": [],
   "source": [
    "api_key = os.getenv(\"OPENAI_API_KEY\")\n",
    "# It gets the api key from the .env file and makes it usable as a variable in the code"
   ]
  },
  {
   "cell_type": "code",
   "execution_count": null,
   "id": "41bf609f",
   "metadata": {},
   "outputs": [],
   "source": [
    "client = OpenAI(api_key=api_key) \n",
    "# This is the client object which we will use to interact with the OpenAI api."
   ]
  },
  {
   "cell_type": "code",
   "execution_count": null,
   "id": "45c44c79",
   "metadata": {},
   "outputs": [],
   "source": [
    "message = [{\"role\": \"user\", \"content\": \"Hello, how are you?\"}]"
   ]
  },
  {
   "cell_type": "markdown",
   "id": "001a6ec8",
   "metadata": {},
   "source": [
    "1. `message` - variable\n",
    "2. `\"role\"`  - role of the thing it is prompted by, here it is the `\"user\"` \n",
    "3. `\"content\"` - the content, or the prompt \n",
    "### All of this is put into an array (defined by [ ] ) with objects (defined by { } ) containing the above things.\n",
    "### If you want to give the API some instructions for the model to follow, you can modify the messages variable like so below:"
   ]
  },
  {
   "cell_type": "code",
   "execution_count": null,
   "id": "7898c8a0",
   "metadata": {},
   "outputs": [],
   "source": [
    "message = [\n",
    "    {\"role\": \"system\", \"content\": \"You are an user-friendly chatbot\"},\n",
    "    {\"role\": \"user\", \"content\": \"Hello, how are you?\"}\n",
    "]"
   ]
  },
  {
   "cell_type": "markdown",
   "id": "1d601324",
   "metadata": {},
   "source": [
    "#### We have given it custom instructions using the `\"role\": \"system\"` code, which tells that this is the content prompted to and for the system to follow in the chat "
   ]
  },
  {
   "cell_type": "code",
   "execution_count": null,
   "id": "3c639443",
   "metadata": {},
   "outputs": [],
   "source": [
    "response = client.chat.completions.create(\n",
    "    model=\"gpt-4o-mini\",\n",
    "    messages=message\n",
    ")"
   ]
  },
  {
   "cell_type": "markdown",
   "id": "292ac6a0",
   "metadata": {},
   "source": [
    "1. `response` - variable\n",
    "2. `client` - the connection we made to OpenAI earlier, saving it as client variable\n",
    "3. `chat` - according to the API, this refers to chat-style models, here we have used `\"gpt-4o-mini\"`, OpenAI's budget model.\n",
    "4. `completions` - telling the model to \"finish this text for me\"\n",
    "5. `create( )` - function call which sends the requests to OpenAI - containing the below things: -\n",
    "   - model - chat-style models\n",
    "   - messages - the message you want to send to the model, here we used `message` variable we made earlier and assigned to this argument\n",
    "#### `client.chat.completions.create( )` = *\"Hey OpenAI client, please create a new chat completion using the model I specify.\"* "
   ]
  },
  {
   "cell_type": "code",
   "execution_count": null,
   "id": "72ed68bd",
   "metadata": {},
   "outputs": [],
   "source": [
    "reply = response.choices[0].message.content\n",
    "print(reply, \"\\n\")"
   ]
  },
  {
   "cell_type": "markdown",
   "id": "be2f60de",
   "metadata": {},
   "source": [
    "1. `response` - the variable we assigned to the model's reply\n",
    "2. `choices` - models can return multiple possible combinations, most of the times these choices are only 1, having only one element\n",
    "3. `[0]` - grabbing the first completion in the `choices` list\n",
    "4. `message` - each completion has a message object, which looks like:\n",
    "   ``` json\n",
    "   {\n",
    "    \"role\": \"assistant\",\n",
    "    \"content\": \"Hello, explain AI in one sentence\"\n",
    "   }\n",
    "   ```\n",
    "   Which looks familiar, as it is just like the structure of the `message` variable we made earlier.\n",
    "5. `content` - This is the actual text the model generated, the string you want to use in your program."
   ]
  },
  {
   "cell_type": "markdown",
   "id": "809eb304",
   "metadata": {},
   "source": [
    "### Now, if we pair this with IPython, we can display it in a suitable format, try it for your self"
   ]
  },
  {
   "cell_type": "code",
   "execution_count": null,
   "id": "1097b982",
   "metadata": {},
   "outputs": [],
   "source": [
    "from IPython.display import display, Markdown\n",
    "display(Markdown(reply))"
   ]
  },
  {
   "cell_type": "markdown",
   "id": "eeaccb4a",
   "metadata": {},
   "source": [
    "# Congrats again, you have now learnt the OpenAI API, you can now get an API key and do wonderful things, but before that, I have some exercises below, complete them for the better of you"
   ]
  },
  {
   "cell_type": "markdown",
   "id": "6cd3bf4a",
   "metadata": {},
   "source": [
    "## 1. Complete the below code"
   ]
  },
  {
   "cell_type": "code",
   "execution_count": null,
   "id": "718c25ef",
   "metadata": {},
   "outputs": [],
   "source": [
    "from openai import \n",
    "import os\n",
    "from dotenv import load_()\n",
    "load_()\n",
    "api_key=os.getenv(\"OPENAI_API_KEY\")\n",
    "client = Open(api_key=)\n",
    "response = client.chat.comple.create(\n",
    "    model=,\n",
    "    messages=\n",
    ")\n",
    "reply = response.choi[].mess.content\n",
    "print(reply)"
   ]
  },
  {
   "cell_type": "markdown",
   "id": "41e22533",
   "metadata": {},
   "source": [
    "## 2. Situation, create your own model\n",
    "<table>\n",
    "    <tr>\n",
    "        <td>\n",
    "            <img src=\"assets/1_dailyTasks.png\" style=\"display: block;\">\n",
    "        </td>\n",
    "        <td style=\"padding: 15px\">\n",
    "            <h2>Problem</h2>\n",
    "            <p>\n",
    "                You are building a customer support chatbot using the OpenAI API.  \n",
    "                The chatbot must:\n",
    "            </p>\n",
    "            <ol>\n",
    "                <li>Answer general questions using GPT.</li>\n",
    "                <li>You must provide it instructions of the company.</li>\n",
    "            </ol>\n",
    "            <h2>Why Logic is Needed</h2>\n",
    "            <p>\n",
    "                GPT can generate human-like answers, but it doesn’t know your <strong>real-time order data</strong>.  \n",
    "            </p>\n",
    "        </td>\n",
    "    </tr>\n",
    "</table>\n"
   ]
  },
  {
   "cell_type": "markdown",
   "id": "ee9e92ec",
   "metadata": {},
   "source": [
    "## Let's continue our journey then, see you soon!\n",
    "### Continue here - [Ready?](2_lab__.ipynb)"
   ]
  }
 ],
 "metadata": {
  "kernelspec": {
   "display_name": "Python 3",
   "language": "python",
   "name": "python3"
  },
  "language_info": {
   "codemirror_mode": {
    "name": "ipython",
    "version": 3
   },
   "file_extension": ".py",
   "mimetype": "text/x-python",
   "name": "python",
   "nbconvert_exporter": "python",
   "pygments_lexer": "ipython3",
   "version": "3.13.5"
  }
 },
 "nbformat": 4,
 "nbformat_minor": 5
}
