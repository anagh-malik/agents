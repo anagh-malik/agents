{
 "cells": [
  {
   "cell_type": "markdown",
   "id": "5663c615",
   "metadata": {},
   "source": [
    "# The first **big** project\n",
    "## In this project we will be using Pushover, but what is it?\n",
    "- Pushover is a nifty tool for sending Push Notifications to your phone.\n",
    "- It's super easy to set up and install.\n",
    "- Simply visit - this [website](https://pushover.net/) and *Login and Signup* for a free account, and create an API key.\n",
    "- Once you've signed up, on the home screen, click \"Create an Application/API Token\", and give it any name. Then, click *Create Application*.\n",
    "- After that, add 2 lines to your `.env` file that you have.\n",
    "  - `PUSHOVER_USER=`*put the key that's on the top right of your Pushover home screen, starts with a **u***\n",
    "  - `PUSHOVER_TOKEN=`*put the key that shows up when you click into your new application called <whatever you named it>, the key starts with an **a***\n",
    "- Finally, after you have saved your `.env` and loaded it in *python*, click \"Add Phone, Table or Desktop\" to install on your phone.\n"
   ]
  },
  {
   "cell_type": "code",
   "execution_count": null,
   "id": "523abbdd",
   "metadata": {},
   "outputs": [],
   "source": [
    "from dotenv import load_dotenv\n",
    "from openai import OpenAI\n",
    "import json\n",
    "import os\n",
    "import requests\n",
    "from pypdf import PdfReader\n",
    "import gradio as gr"
   ]
  },
  {
   "cell_type": "markdown",
   "id": "80d7d3d9",
   "metadata": {},
   "source": [
    "1. `dotenv` - needed for `load_dotenv( )`\n",
    "2. `OpenAI` - for OpenAI API\n",
    "3. `json` - better grouping/formatting of data \n",
    "4. `os` - accessing files on your computer\n",
    "5. `requests` - requests API in which you provide an endpoint URL, from which API works, *more details below*.\n",
    "6. `pypdf` - for reading pdf files\n",
    "7. `gradio` - for providing GUI"
   ]
  },
  {
   "cell_type": "markdown",
   "id": "dc9486d2",
   "metadata": {},
   "source": [
    "### What is `requests`\n",
    "- It is a popular library in *python* used for making HTTP requests, or should I say web requests.\n",
    "- It is used in APIs, like `grok`, `deepseek`, etc.\n",
    "- Here is how they are coded: -\n",
    "  ``` python\n",
    "  import requests\n",
    "  from dotenv import load_dotenv\n",
    "  import os\n",
    "  load_dotenv()\n",
    "  key = os.getenv(\"API_KEY\")\n",
    "  url = <url here>\n",
    "  headers = {\n",
    "    \"Authorization\": f\"Bearer {key}\"\n",
    "    \"Content-type\": \"application/json\"\n",
    "  }\n",
    "  payload = {\n",
    "    \"model\": <model here>\n",
    "    \"messages\": [\n",
    "        {\"role\": \"user\", \"content\": \"Hi, how are you\"}\n",
    "    ]\n",
    "    \"stream\": False\n",
    "  }\n",
    "  response = requests.post(url, headers=headers, json=payload)\n",
    "  data = response.json()\n",
    "  reply = data['choices'][0]['message']['content']\n",
    "  print(reply)\n",
    "  ```\n",
    "#### Explanation\n",
    "- `url`, `headers`, `payload`: These variables set up the details of the request.\n",
    "- `url` is the specific address of the API endpoint you're sending the request to.\n",
    "- `headers` provides extra information with the request. The Authorization header uses your API key to authenticate the request, proving you have permission to access the API. The Content-type header tells the server that the data you're sending is in JSON format.\n",
    "- `payload` is a Python dictionary that contains the core information for the request. It specifies the model you want to use, the messages that form the conversation (in this case, \"Hi, how are you\"), and whether the response should stream back one word at a time or all at once (False here means all at once).\n",
    "- `response = requests.post(url, headers=headers, json=payload)`: This line sends the actual request to the API. requests.post is used because you are sending data (the payload) to the server.\n",
    "- `data = response.json()`: This line takes the response from the server and converts its JSON content into a Python dictionary, making it easy to work with.\n",
    "- `reply = data['choices'][0]['message']['content']`: This line navigates through the nested dictionary structure of the data to extract the AI's actual reply. It finds the first choice from the model and pulls out the text content of the message.\n",
    "- `print(reply)`: Finally, this line prints the AI's response to your terminal."
   ]
  }
 ],
 "metadata": {
  "kernelspec": {
   "display_name": ".venv",
   "language": "python",
   "name": "python3"
  },
  "language_info": {
   "name": "python",
   "version": "3.12.11"
  }
 },
 "nbformat": 4,
 "nbformat_minor": 5
}
