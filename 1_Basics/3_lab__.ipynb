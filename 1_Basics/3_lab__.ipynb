{
 "cells": [
  {
   "cell_type": "markdown",
   "id": "5663c615",
   "metadata": {},
   "source": [
    "# The first **big** project\n",
    "## In this project we will be using Pushover, but what is it?\n",
    "- Pushover is a nifty tool for sending Push Notifications to your phone.\n",
    "- It's super easy to set up and install.\n",
    "- Simply visit - this [website](https://pushover.net/) and *Login and Signup* for a free account, and create an API key.\n",
    "- Once you've signed up, on the home screen, click \"Create an Application/API Token\", and give it any name. Then, click *Create Application*.\n",
    "- After that, add 2 lines to your `.env` file that you have.\n",
    "  - `PUSHOVER_USER=`*put the key that's on the top right of your Pushover home screen, starts with a **u***\n",
    "  - `PUSHOVER_TOKEN=`*put the key that shows up when you click into your new application called <whatever you named it>, the key starts with an **a***\n",
    "- Finally, after you have saved your `.env` and loaded it in *python*, click \"Add Phone, Table or Desktop\" to install on your phone.\n"
   ]
  },
  {
   "cell_type": "code",
   "execution_count": null,
   "id": "523abbdd",
   "metadata": {},
   "outputs": [],
   "source": [
    "from dotenv import load_dotenv\n",
    "from openai import OpenAI\n",
    "import json\n",
    "import os\n",
    "import requests\n",
    "from pypdf import PdfReader\n",
    "import gradio as gr"
   ]
  },
  {
   "cell_type": "markdown",
   "id": "80d7d3d9",
   "metadata": {},
   "source": [
    "1. `dotenv` - needed for `load_dotenv( )`\n",
    "2. `OpenAI` - for OpenAI API\n",
    "3. `json` - better grouping/formatting of data \n",
    "4. `os` - accessing files on your computer\n",
    "5. `requests` - requests API in which you provide an endpoint URL, from which API works, *more details below*.\n",
    "6. `pypdf` - for reading pdf files\n",
    "7. `gradio` - for providing GUI"
   ]
  },
  {
   "cell_type": "markdown",
   "id": "dc9486d2",
   "metadata": {},
   "source": [
    "### What is `requests`?\n",
    "- It is a popular library in *python* used for making **HTTP requests**, or **web requests**.\n",
    "- It is used in APIs, like `grok`, `deepseek`, etc.\n",
    "- Here is how they are coded: -\n",
    "  ``` python\n",
    "  import requests\n",
    "  from dotenv import load_dotenv\n",
    "  import os\n",
    "  load_dotenv()\n",
    "  key = os.getenv(\"API_KEY\")\n",
    "  url = <url here>\n",
    "  headers = {\n",
    "    \"Authorization\": f\"Bearer {key}\"\n",
    "    \"Content-type\": \"application/json\"\n",
    "  }\n",
    "  payload = {\n",
    "    \"model\": <model here>\n",
    "    \"messages\": [\n",
    "        {\"role\": \"user\", \"content\": \"Hi, how are you\"}\n",
    "    ]\n",
    "    \"stream\": False\n",
    "  }\n",
    "  response = requests.post(url, headers=headers, json=payload)\n",
    "  data = response.json()\n",
    "  reply = data['choices'][0]['message']['content']\n",
    "  print(reply)\n",
    "  ```\n",
    "- `url`, `headers`, `payload`: These variables set up the details of the request.\n",
    "- `url` is the specific address of the API endpoint you're sending the request to.\n",
    "- `headers` provides extra information with the request. The Authorization header uses your API key to authenticate the request, proving you have permission to access the API. The Content-type header tells the server that the data you're sending is in JSON format.\n",
    "- `payload` is a Python dictionary that contains the core information for the request. It specifies the model you want to use, the messages that form the conversation (in this case, \"Hi, how are you\"), and whether the response should stream back one word at a time or all at once (False here means all at once).\n",
    "- `response = requests.post(url, headers=headers, json=payload)`: This line sends the actual request to the API. requests.post is used because you are sending data (the payload) to the server.\n",
    "- `data = response.json()`: This line takes the response from the server and converts its JSON content into a Python dictionary, making it easy to work with.\n",
    "- `reply = data['choices'][0]['message']['content']`: This line navigates through the nested dictionary structure of the data to extract the AI's actual reply. It finds the first choice from the model and pulls out the text content of the message.\n",
    "- `print(reply)`: Finally, this line prints the AI's response to your terminal.\n",
    "- Now, let's continue with the usual things, you'll automatically recognize the `requests` library code."
   ]
  },
  {
   "cell_type": "code",
   "execution_count": null,
   "id": "a6849480",
   "metadata": {},
   "outputs": [],
   "source": [
    "# The usual things\n",
    "\n",
    "load_dotenv(override=True)\n",
    "api = os.getenv(\"OPENAI_API_KEY\")\n",
    "client = OpenAI(api_key=api)"
   ]
  },
  {
   "cell_type": "code",
   "execution_count": null,
   "id": "ab2338dd",
   "metadata": {},
   "outputs": [],
   "source": [
    "pushover_user = os.getenv(\"PUSHOVER_USER\")\n",
    "pushover_token = os.getenv(\"PUSHOVER_TOKEN\")\n",
    "pushover_url = \"https://api.pushover.net/1/messages.json\""
   ]
  },
  {
   "cell_type": "markdown",
   "id": "cde763ac",
   "metadata": {},
   "source": [
    "- Now, what we have done is we have used our `.env` variables and given the `pushover_url` API link.\n",
    "- And you guessed it, we will use it in `requests`."
   ]
  },
  {
   "cell_type": "code",
   "execution_count": null,
   "id": "f665873a",
   "metadata": {},
   "outputs": [],
   "source": [
    "def push(message):\n",
    "    print(f\"Push: {message}\")\n",
    "    payload = {\"user\": pushover_user, \"token\": pushover_token, \"message\": message}\n",
    "    requests.post(pushover_url, data=payload)\n",
    "push(\"Hey there, this is a sample notification.\")"
   ]
  },
  {
   "cell_type": "markdown",
   "id": "d9a33fa5",
   "metadata": {},
   "source": [
    "- We have made a `push(message)` function, where we have used `requests` to post our `data` which is assigned to `payload`\n",
    "- Then, we have called the function and the message will be printed on the device."
   ]
  },
  {
   "cell_type": "code",
   "execution_count": null,
   "id": "ed096cfe",
   "metadata": {},
   "outputs": [],
   "source": [
    "def record_user_details(email, name=\"Name not provided\", notes=\"not provided\"):\n",
    "    push(f\"Recording interest from {name} with email {email} and notes {notes}\")\n",
    "    return {\"recorded\": \"ok\"}\n",
    "def record_unknown_question(question):\n",
    "    push(f\"Recording {question} asked that I couldn't answer\")\n",
    "    return {\"recorded\": \"ok\"}"
   ]
  },
  {
   "cell_type": "markdown",
   "id": "74d0d1a7",
   "metadata": {},
   "source": [
    "- Now, what we have done here is made two functions, for recording 2 things from the user: -\n",
    "    - `record_user_details(..)` : We are asking for interest and printing the user details which we will ask later.\n",
    "    - `record_unknown_question(..)` : Anything else that the user asked and system couldn't answer.\n",
    "- Both of these functions end with, `return {\"recorded\": \"ok\"}`, meaning that the functions will return that: \"Ok, message has been recorded, let's continue and end this function\""
   ]
  },
  {
   "cell_type": "code",
   "execution_count": null,
   "id": "694d0d2f",
   "metadata": {},
   "outputs": [],
   "source": [
    "record_user_details_json = {\n",
    "    \"name\": \"record_user_details\",\n",
    "    \"description\": \"Use this tool to record that a user is interested in being in touch and provided an email address\",\n",
    "    \"parameters\": {\n",
    "        \"type\": \"object\",\n",
    "        \"properties\": {\n",
    "            \"email\": {\n",
    "                \"type\": \"string\",\n",
    "                \"description\": \"The email address of this user\"\n",
    "            },\n",
    "            \"name\": {\n",
    "                \"type\": \"string\",\n",
    "                \"description\": \"The user's name, if they provided it\"\n",
    "            }\n",
    "            ,\n",
    "            \"notes\": {\n",
    "                \"type\": \"string\",\n",
    "                \"description\": \"Any additional information about the conversation that's worth recording to give context\"\n",
    "            }\n",
    "        },\n",
    "        \"required\": [\"email\"],\n",
    "        \"additionalProperties\": False\n",
    "    }\n",
    "}"
   ]
  },
  {
   "cell_type": "markdown",
   "id": "0f79bcbd",
   "metadata": {},
   "source": [
    "- The code above may seem complicated, but it's simple, let me tell you about it: -\n",
    "  - We have defined a schema for a tool that records user details:\n",
    "    - Must include email (a string).\n",
    "    - May include name and notes (both are strings).\n",
    "    - No other extra fields are allowed.\n",
    "- We have used `json`, that we imported earlier, used it to define a *Python* Dictionary, with a **JSON** format.\n",
    "- Now, you may be thinking, what is `json`, well great let me tell you."
   ]
  },
  {
   "cell_type": "markdown",
   "id": "49f74aea",
   "metadata": {},
   "source": [
    "#### `json` simplified\n",
    "- It is a lightweight format to store and share data between systems.\n",
    "- Here, we are sharing data between our *Python* program and the `Pushover` API.\n",
    "- Rules:\n",
    "  - Uses key-value pairs (\"key\": value).\n",
    "  - Key must be in **double-quotes only**.\n",
    "  - Values can be:\n",
    "    - String (in `\"\"`)\n",
    "    - Number/Integer (`123`)\n",
    "    - Boolean (`true`/`false`)\n",
    "    - Null (`null`)\n",
    "    - Array (`[1, 2, 3]`, in `[]`)\n",
    "    - Object (`{\"example\": \"data\"}`)\n",
    "  - No comments allowed.\n",
    "  - Trailing commas (extra ones) aren't allowed\n",
    "##### JSON = JavaScript Object Notation\n"
   ]
  },
  {
   "cell_type": "code",
   "execution_count": null,
   "id": "de2ad939",
   "metadata": {},
   "outputs": [],
   "source": [
    "record_unknown_question_json = {\n",
    "    \"name\": \"record_unknown_question\",\n",
    "    \"description\": \"Always use this tool to record any question that couldn't be answered as you didn't know the answer\",\n",
    "    \"parameters\": {\n",
    "        \"type\": \"object\",\n",
    "        \"properties\": {\n",
    "            \"question\": {\n",
    "                \"type\": \"string\",\n",
    "                \"description\": \"The question that couldn't be answered\"\n",
    "            },\n",
    "        },\n",
    "        \"required\": [\"question\"],\n",
    "        \"additionalProperties\": False\n",
    "    }\n",
    "}"
   ]
  },
  {
   "cell_type": "markdown",
   "id": "1f655816",
   "metadata": {},
   "source": [
    "- Here, we have given defined a schema that records unknown questions from the user:\n",
    "  - `question` can only be a string.\n",
    "  - If question is called, it is `required`, with `additionalProperties` being false."
   ]
  }
 ],
 "metadata": {
  "kernelspec": {
   "display_name": ".venv",
   "language": "python",
   "name": "python3"
  },
  "language_info": {
   "name": "python",
   "version": "3.12.11"
  }
 },
 "nbformat": 4,
 "nbformat_minor": 5
}
