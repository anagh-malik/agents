{
 "cells": [
  {
   "cell_type": "markdown",
   "id": "5663c615",
   "metadata": {},
   "source": [
    "# The first **big** project\n",
    "## In this project we will be using Pushover, but what is it?\n",
    "- Pushover is a nifty tool for sending Push Notifications to your phone.\n",
    "- It's super easy to set up and install.\n",
    "- Simply visit - this [website](https://pushover.net/) and *Login and Signup* for a free account, and create an API key.\n",
    "- Once you've signed up, on the home screen, click \"Create an Application/API Token\", and give it any name. Then, click *Create Application*.\n",
    "- After that, add 2 lines to your `.env` file that you have.\n",
    "  - `PUSHOVER_USER=`*put the key that's on the top right of your Pushover home screen, starts with a **u***\n",
    "  - `PUSHOVER_TOKEN=`*put the key that shows up when you click into your new application called <whatever you named it>, the key starts with an **a***\n",
    "- Finally, after you have saved your `.env` and loaded it in *python*, click \"Add Phone, Table or Desktop\" to install on your phone.\n"
   ]
  },
  {
   "cell_type": "code",
   "execution_count": null,
   "id": "523abbdd",
   "metadata": {},
   "outputs": [],
   "source": [
    "from dotenv import load_dotenv\n",
    "from openai import OpenAI\n",
    "import json\n",
    "import os\n",
    "import requests\n",
    "from pypdf import PdfReader\n",
    "import gradio as gr"
   ]
  },
  {
   "cell_type": "markdown",
   "id": "80d7d3d9",
   "metadata": {},
   "source": [
    "1. `dotenv` - needed for `load_dotenv( )`\n",
    "2. `OpenAI` - for OpenAI API\n",
    "3. `json` - better grouping/formatting of data \n",
    "4. `os` - accessing files on your computer\n",
    "5. `requests` - requests API in which you provide an endpoint URL, from which API works, *more details below*.\n",
    "6. `pypdf` - for reading pdf files\n",
    "7. `gradio` - for providing GUI"
   ]
  },
  {
   "cell_type": "markdown",
   "id": "dc9486d2",
   "metadata": {},
   "source": [
    "### What is `requests`?\n",
    "- It is a popular library in *python* used for making **HTTP requests**, or **web requests**.\n",
    "- It is used in APIs, like `grok`, `deepseek`, etc.\n",
    "- Here is how they are coded: -\n",
    "  ``` python\n",
    "  import requests\n",
    "  from dotenv import load_dotenv\n",
    "  import os\n",
    "  load_dotenv()\n",
    "  key = os.getenv(\"API_KEY\")\n",
    "  url = <url here>\n",
    "  headers = {\n",
    "    \"Authorization\": f\"Bearer {key}\"\n",
    "    \"Content-type\": \"application/json\"\n",
    "  }\n",
    "  payload = {\n",
    "    \"model\": <model here>\n",
    "    \"messages\": [\n",
    "        {\"role\": \"user\", \"content\": \"Hi, how are you\"}\n",
    "    ]\n",
    "    \"stream\": False\n",
    "  }\n",
    "  response = requests.post(url, headers=headers, json=payload)\n",
    "  data = response.json()\n",
    "  reply = data['choices'][0]['message']['content']\n",
    "  print(reply)\n",
    "  ```\n",
    "- `url`, `headers`, `payload`: These variables set up the details of the request.\n",
    "- `url` is the specific address of the API endpoint you're sending the request to.\n",
    "- `headers` provides extra information with the request. The Authorization header uses your API key to authenticate the request, proving you have permission to access the API. The Content-type header tells the server that the data you're sending is in JSON format.\n",
    "- `payload` is a Python dictionary that contains the core information for the request. It specifies the model you want to use, the messages that form the conversation (in this case, \"Hi, how are you\"), and whether the response should stream back one word at a time or all at once (False here means all at once).\n",
    "- `response = requests.post(url, headers=headers, json=payload)`: This line sends the actual request to the API. requests.post is used because you are sending data (the payload) to the server.\n",
    "- `data = response.json()`: This line takes the response from the server and converts its JSON content into a Python dictionary, making it easy to work with.\n",
    "- `reply = data['choices'][0]['message']['content']`: This line navigates through the nested dictionary structure of the data to extract the AI's actual reply. It finds the first choice from the model and pulls out the text content of the message.\n",
    "- `print(reply)`: Finally, this line prints the AI's response to your terminal.\n",
    "- Now, let's continue with the usual things, you'll automatically recognize the `requests` library code."
   ]
  },
  {
   "cell_type": "code",
   "execution_count": null,
   "id": "a6849480",
   "metadata": {},
   "outputs": [],
   "source": [
    "# The usual things\n",
    "\n",
    "load_dotenv(override=True)\n",
    "api = os.getenv(\"OPENAI_API_KEY\")\n",
    "client = OpenAI(api_key=api)"
   ]
  },
  {
   "cell_type": "code",
   "execution_count": null,
   "id": "ab2338dd",
   "metadata": {},
   "outputs": [],
   "source": [
    "pushover_user = os.getenv(\"PUSHOVER_USER\")\n",
    "pushover_token = os.getenv(\"PUSHOVER_TOKEN\")\n",
    "pushover_url = \"https://api.pushover.net/1/messages.json\""
   ]
  },
  {
   "cell_type": "markdown",
   "id": "cde763ac",
   "metadata": {},
   "source": [
    "- Now, what we have done is we have used our `.env` variables and given the `pushover_url` API link.\n",
    "- And you guessed it, we will use it in `requests`."
   ]
  },
  {
   "cell_type": "code",
   "execution_count": null,
   "id": "f665873a",
   "metadata": {},
   "outputs": [],
   "source": [
    "def push(message):\n",
    "    print(f\"Push: {message}\")\n",
    "    payload = {\"user\": pushover_user, \"token\": pushover_token, \"message\": message}\n",
    "    requests.post(pushover_url, data=payload)\n",
    "push(\"Hey there, this is a sample notification.\")"
   ]
  },
  {
   "cell_type": "markdown",
   "id": "d9a33fa5",
   "metadata": {},
   "source": [
    "- We have made a `push(message)` function, where we have used `requests` to post our `data` which is assigned to `payload`\n",
    "- Then, we have called the function and the message will be printed on the device."
   ]
  },
  {
   "cell_type": "code",
   "execution_count": null,
   "id": "ed096cfe",
   "metadata": {},
   "outputs": [],
   "source": [
    "def record_user_details(email, name=\"Name not provided\", notes=\"not provided\"):\n",
    "    push(f\"Recording interest from {name} with email {email} and notes {notes}\")\n",
    "    return {\"recorded\": \"ok\"}\n",
    "def record_unknown_question(question):\n",
    "    push(f\"Recording {question} asked that I couldn't answer\")\n",
    "    return {\"recorded\": \"ok\"}"
   ]
  },
  {
   "cell_type": "markdown",
   "id": "74d0d1a7",
   "metadata": {},
   "source": [
    "- Now, what we have done here is made two functions, for recording 2 things from the user: -\n",
    "    - `record_user_details(..)` : We are asking for interest and printing the user details which we will ask later.\n",
    "    - `record_unknown_question(..)` : Anything else that the user asked and system couldn't answer.\n",
    "- Both of these functions end with, `return {\"recorded\": \"ok\"}`, meaning that the functions will return that: \"Ok, message has been recorded, let's continue and end this function\""
   ]
  },
  {
   "cell_type": "code",
   "execution_count": null,
   "id": "694d0d2f",
   "metadata": {},
   "outputs": [],
   "source": [
    "record_user_details_json = {\n",
    "    \"name\": \"record_user_details\",\n",
    "    \"description\": \"Use this tool to record that a user is interested in being in touch and provided an email address\",\n",
    "    \"parameters\": {\n",
    "        \"type\": \"object\",\n",
    "        \"properties\": {\n",
    "            \"email\": {\n",
    "                \"type\": \"string\",\n",
    "                \"description\": \"The email address of this user\"\n",
    "            },\n",
    "            \"name\": {\n",
    "                \"type\": \"string\",\n",
    "                \"description\": \"The user's name, if they provided it\"\n",
    "            }\n",
    "            ,\n",
    "            \"notes\": {\n",
    "                \"type\": \"string\",\n",
    "                \"description\": \"Any additional information about the conversation that's worth recording to give context\"\n",
    "            }\n",
    "        },\n",
    "        \"required\": [\"email\"],\n",
    "        \"additionalProperties\": False\n",
    "    }\n",
    "}"
   ]
  },
  {
   "cell_type": "markdown",
   "id": "0f79bcbd",
   "metadata": {},
   "source": [
    "- The code above may seem complicated, but it's simple, let me tell you about it: -\n",
    "  - We have defined a schema for a tool that records user details:\n",
    "    - Must include email (a string).\n",
    "    - May include name and notes (both are strings).\n",
    "    - No other extra fields are allowed.\n",
    "- We have used `json`, that we imported earlier, used it to define a *Python* Dictionary, with a **JSON** format.\n",
    "- Now, you may be thinking, what is `json`, well great let me tell you."
   ]
  },
  {
   "cell_type": "markdown",
   "id": "49f74aea",
   "metadata": {},
   "source": [
    "#### `json` simplified\n",
    "- It is a lightweight format to store and share data between systems.\n",
    "- Here, we are sharing data between our *Python* program and the `Pushover` API.\n",
    "- Rules:\n",
    "  - Uses key-value pairs (\"key\": value).\n",
    "  - Key must be in **double-quotes only**.\n",
    "  - Values can be:\n",
    "    - String (in `\"\"`)\n",
    "    - Number/Integer (`123`)\n",
    "    - Boolean (`true`/`false`)\n",
    "    - Null (`null`)\n",
    "    - Array (`[1, 2, 3]`, in `[]`)\n",
    "    - Object (`{\"example\": \"data\"}`)\n",
    "  - No comments allowed.\n",
    "  - Trailing commas (extra ones) aren't allowed\n",
    "##### JSON = JavaScript Object Notation\n"
   ]
  },
  {
   "cell_type": "code",
   "execution_count": null,
   "id": "de2ad939",
   "metadata": {},
   "outputs": [],
   "source": [
    "record_unknown_question_json = {\n",
    "    \"name\": \"record_unknown_question\",\n",
    "    \"description\": \"Always use this tool to record any question that couldn't be answered as you didn't know the answer\",\n",
    "    \"parameters\": {\n",
    "        \"type\": \"object\",\n",
    "        \"properties\": {\n",
    "            \"question\": {\n",
    "                \"type\": \"string\",\n",
    "                \"description\": \"The question that couldn't be answered\"\n",
    "            },\n",
    "        },\n",
    "        \"required\": [\"question\"],\n",
    "        \"additionalProperties\": False\n",
    "    }\n",
    "}"
   ]
  },
  {
   "cell_type": "markdown",
   "id": "1f655816",
   "metadata": {},
   "source": [
    "- Here, we have given defined a schema that records unknown questions from the user:\n",
    "  - `question` can only be a string.\n",
    "  - If question is called, it is `required`, with `additionalProperties` being false, meaning, only one property, which is the `\"question\"`, is the only one and more can't be added."
   ]
  },
  {
   "cell_type": "code",
   "execution_count": null,
   "id": "f8a84175",
   "metadata": {},
   "outputs": [],
   "source": [
    "tools = [\n",
    "    {\"type\": \"function\", \"function\": record_user_details_json},\n",
    "    {\"type\": \"function\", \"function\": record_unknown_question_json}\n",
    "]\n",
    "# Now we have assigned those JSON properties to a variable, containing them as objects\n",
    "# One object is for the normal user details while the other is for the unknown question"
   ]
  },
  {
   "cell_type": "code",
   "execution_count": null,
   "id": "cf32ca9a",
   "metadata": {},
   "outputs": [],
   "source": [
    "tools\n",
    "\n",
    "def handle_tool_calls(tool_calls):\n",
    "    results = []\n",
    "    for tool_call in tool_calls:\n",
    "        tool_name = tool_call.function.name\n",
    "        arguments = json.loads(tool_call.function.arguments)\n",
    "        print(f\"Tool called: {tool_name}\", flush=True)\n",
    "        if tool_name == \"record_user_details\":\n",
    "            result = record_user_details(**arguments)\n",
    "        elif tool_name == \"record_unknown_question\":\n",
    "            result = record_unknown_question(**arguments)\n",
    "        results.append(\n",
    "            {\"role\": \"tool\", \"content\": json.dumps(result), \"tool_call_id\": tool_call.id}\n",
    "        )\n",
    "    return results"
   ]
  },
  {
   "cell_type": "markdown",
   "id": "ae8e9589",
   "metadata": {},
   "source": [
    "- We have defined a function that handles tool calls and identifies them.\n",
    "  - In this function we have added a `results` variable with no objects\n",
    "  - Then we have made a `for` loop, that loads arguments from the `json` variables we made earlier.\n",
    "  - Then we have made 2 big `if` statements:\n",
    "    - `if tool_name == \"record_user_details\"`: if tool name is about recording user details, then run the corresponding function, with `json` arguments we assigned in a variable in this `for` loop.\n",
    "    - `elif tool_name == \"record_unknown_question\"`: else, if tool name is about recording user's unknown question, then run the correspoinding function, again with the `json` arguments we assigned to a variable in this `for` loop."
   ]
  },
  {
   "cell_type": "code",
   "execution_count": null,
   "id": "c8533668",
   "metadata": {},
   "outputs": [],
   "source": [
    "globals()[\"record_unknown_question\"](\"this is a really hard question\")"
   ]
  },
  {
   "cell_type": "markdown",
   "id": "6e619c64",
   "metadata": {},
   "source": [
    "- Then, the usual things, if not understanding then go learn it [here](2_lab__.ipynb)."
   ]
  },
  {
   "cell_type": "code",
   "execution_count": null,
   "id": "41b1f722",
   "metadata": {},
   "outputs": [],
   "source": [
    "reader = PdfReader(\"samples/sample1.pdf\")\n",
    "chapter = \"\"\n",
    "for page in reader.pages:\n",
    "    text = page.extract_text()\n",
    "    if text:\n",
    "        chapter += text\n",
    "with open(\"samples/sample1.pdf\", \"rb\", encoding=\"utf-8\") as f:\n",
    "    summary = f.read()\n",
    "name = \"Structured Query Language (SQL)\""
   ]
  },
  {
   "cell_type": "code",
   "execution_count": null,
   "id": "7b5178bb",
   "metadata": {},
   "outputs": [],
   "source": [
    "system_prompt=f\"\"\"You are every student's favorite teacher who specializes in teaching grade 12 in India, teaching them chapter - {name}. \\n\n",
    "                  You are answering questions on {name}'s topic, particularly questions related to {name}'s syntax and content of the chapter. \\n\n",
    "                  Your responsibility is to represent a teacher, who is good in programming as well as teaching students. But, give feedback to \n",
    "                  students as faithfully as possible. Be helpful and engaging, as if talking to a future topper or a potiential breakthrough maker\n",
    "                  in the tech industry. If you don't know the answer say so.\"\"\"\n",
    "system_prompt += f\"\\n\\n## Summary:\\n{summary}\\n\\n## Chapter\\n{chapter}\\n\\n\"\n",
    "system_prompt += f\"With this context, please chat with the user, always staying in character as that favorite teacher.\""
   ]
  },
  {
   "cell_type": "code",
   "execution_count": null,
   "id": "ff12eee0",
   "metadata": {},
   "outputs": [],
   "source": [
    "def chat(message, history):\n",
    "    messages = [\n",
    "        {\"role\": \"system\", \"content\": system_prompt}\n",
    "    ] + history + [\n",
    "        {\"role\": \"user\", \"content\": message}\n",
    "    ]\n",
    "    done = False\n",
    "    while not done:\n",
    "        response = client.chat.completions.create(\n",
    "            model=\"gpt-4o-mini\",\n",
    "            messages=messages,\n",
    "            tools=tools\n",
    "        )\n",
    "        finish_reason = response.choices[0].finish_reason\n",
    "        if finish_reason == \"tool_calls\":\n",
    "            message = response.choices[0].message\n",
    "            tool_calls = message.tool_calls\n",
    "            results = handle_tool_calls(tool_calls)\n",
    "            messages.append(message)\n",
    "            messages.extend(results)\n",
    "        else:\n",
    "            done = True\n",
    "    return response.choices[0].message.content"
   ]
  },
  {
   "cell_type": "markdown",
   "id": "6a481b36",
   "metadata": {},
   "source": [
    "- We have added an `if` statement, only if the LLM (Large Language Model) wants to call a tool, which we can do."
   ]
  },
  {
   "cell_type": "code",
   "execution_count": null,
   "id": "f7f5f709",
   "metadata": {},
   "outputs": [],
   "source": [
    "gr.ChatInterface(chat, type=\"messages\").launch()"
   ]
  },
  {
   "cell_type": "markdown",
   "id": "f875f62b",
   "metadata": {},
   "source": [
    "### And, that's it, you have now created a chatbot that also sends notifications using Pushover. Again using the same pdf as last time talking about SQL.\n",
    "\n",
    "### Now, its Project time!"
   ]
  },
  {
   "cell_type": "markdown",
   "id": "efc2fa5a",
   "metadata": {},
   "source": [
    "<table>\n",
    "    <tr>\n",
    "        <td>\n",
    "            <img src=\"assets/6_studyAgent.png\" style=\"display: block;\">\n",
    "        </td>\n",
    "        <td style=\"padding: 30px;\">\n",
    "            <h3>📚 AI Study Buddy with Urgent Reminders</h3>\n",
    "            <ul>\n",
    "                <li>You send your study questions or essays to the OpenAI API, and it generates summaries, answers, or explanations.</li>\n",
    "                <li>If OpenAI detects something important — like you’ve missed revising a key topic before exams, or your essay draft has major gaps — it triggers the Pushover API to buzz your phone.</li>\n",
    "            </ul>\n",
    "            <h5><strong>Example flow:</strong></h5>\n",
    "            <ol>\n",
    "                <li>You paste your syllabus text into OpenAI → it analyzes and says: “These 3 topics haven’t been revised yet.”</li>\n",
    "                <li>If the model marks any topic as “high priority,” your script calls Pushover:</li>\n",
    "                <li>Notification: “⚠️ Don’t forget: Trigonometry & Probability still pending before tomorrow’s test.”</li>\n",
    "            </ol>\n",
    "        </td>\n",
    "    </tr>\n",
    "</table>"
   ]
  },
  {
   "cell_type": "markdown",
   "id": "66461e63",
   "metadata": {},
   "source": [
    "## Ready to move on?!\n",
    "\n",
    "## [Ready?](../2_OpenAI/)\n"
   ]
  }
 ],
 "metadata": {
  "kernelspec": {
   "display_name": ".venv",
   "language": "python",
   "name": "python3"
  },
  "language_info": {
   "name": "python",
   "version": "3.12.11"
  }
 },
 "nbformat": 4,
 "nbformat_minor": 5
}
