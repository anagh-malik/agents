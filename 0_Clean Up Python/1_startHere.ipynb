{
 "cells": [
  {
   "cell_type": "markdown",
   "id": "3cb680c8",
   "metadata": {},
   "source": [
    "## Now, don't worry if you are here.\n",
    "- If you are having problems understanding *python*, it is good for you to be here.\n",
    "- It's time to clean up your skills and then you can start the **Agentic AI** guide."
   ]
  },
  {
   "cell_type": "markdown",
   "id": "10299cda",
   "metadata": {},
   "source": [
    "## If you don't have python on your computer: go to [https://python.org/downloads/](https://python.org/downloads/), and choose the latest python version, compatible with your laptop.\n",
    "- Now when installation starts, please choose `Add to PATH` in the installation.\n",
    "- After it has installed, go ahead and open any file, name it *<your name>.py*, it should end with *.py* extension.\n",
    "- Next:\n",
    "  - If you are using VS Code:- (recommended IDE)\n",
    "    - Press Ctrl + Shift + P, for Mac users Cmd + Shift + P\n",
    "    - In the dialogue, search `Python: Select Interpreter`, choose the version that you installed and that's it.\n",
    "  - If you are using PyCharm: -\n",
    "    - Press Shift three times\n",
    "    - Search *python intrepreter*\n",
    "    - Settings dialogue will open and select the interpreter, it's usually in :\n",
    "      - `C:\\Users\\<yourusername>\\AppData\\Local\\Programs\\Python\\Python3x\\python.exe` for windows.\n",
    "      - `/usr/bin/python3` for macos/linux."
   ]
  },
  {
   "cell_type": "markdown",
   "id": "61b646c4",
   "metadata": {},
   "source": [
    "## Good, *python* has been set up on your computer, now its time for learning the basics."
   ]
  },
  {
   "cell_type": "markdown",
   "id": "84fc1fb9",
   "metadata": {},
   "source": [
    "### First, let's learn the different **data types** in *python*\n",
    "1. **String** - For storing any text, enclosed in single or double quotes ('' or \"\")\n",
    "2. **Integer** - For storing any number, negative or positive\n",
    "3. **Boolean** - For storing bit values, either `True` or `False`\n",
    "4. **Float** - For storing decimal values, eg: 3.14159\n",
    "5. **Complex** - For storing numbers and imaginary parts, eg: 2x\n",
    "6. **List** - For storing items in an ordered list, enclosed in [ ], allows duplicates, changeable\n",
    "7. **Set** - For storing items in an unordered list, enclosed { }, no duplicates, changeable\n",
    "8. **Tuple** - For storing items in an ordered list which is unchangeable, allows duplicates\n",
    "9. **Dictionary** - For making key-value pairs, eg : {\"name\": \"Agentic\", \"born\": 2025, type: \"AI\"}\n",
    "10. **None** or **Null** - used of representing *nothing*"
   ]
  },
  {
   "cell_type": "markdown",
   "id": "3fb0aefd",
   "metadata": {},
   "source": [
    "### Using these data types, we can perform various functions:\n",
    "1. **Arithmetic Operators** - basic math\n",
    "   - `+` : Addition\n",
    "   - `-` : Subtraction\n",
    "   - `*` : Multiplication\n",
    "   - `/` : Division\n",
    "   - `//` : Floor Division (removes decimal part of answer)\n",
    "   - `%` : Modulus (gives remainder)\n",
    "   - `**` : Exponent (power)\n",
    "2. **Comparison Operators** - ask True/False questions\n",
    "   - `==` : equal to\n",
    "   - `!=` : not equal to\n",
    "   - `>` : greater than\n",
    "   - `<` : less than\n",
    "   - `>=` : greater or equal to\n",
    "   - `<=` : less or equal to (don't mistaken with `=>`)\n",
    "3. **Logical Operators** - combine conditions\n",
    "   - `and` : True if both are True (True and False → False)\n",
    "   - `or` : Atleast one is True (True or False → True)\n",
    "   - `not`: Flips true/false (not True → False)\n",
    "4. **Assignment Operators** - store values\n",
    "   - `=` - assign\n",
    "   - `+=` - add the value and assign it\n",
    "   - `-=` - subtract value and assign it\n",
    "   - `*=` - multiply value and assign it\n",
    "   - `/=` - divide value and assign it\n",
    "   - `//=` - floor divide value and assign it\n",
    "   - `%=` - modulus and assign it\n",
    "   - `**=` - power and assign it\n",
    "5. **Bitwise Operators** - work at binary level\n",
    "   - `&` : AND\n",
    "   - `|` : OR\n",
    "   - `^` : XOR (exclusive OR)\n",
    "   - `~` : NOT (flips bits)\n",
    "   - `<<` : left shift\n",
    "   - `>>` : Right shift\n",
    "6. **Membership Operators** - work at string level\n",
    "   - `in` : checks if some value is in a sequence\n",
    "   - `not in` : checks if some value is not in a sequence\n",
    "7. **Identity Operators**\n",
    "   - `is` : checks if two objects are the same in memory\n",
    "   - `is not` : checks if not the same object"
   ]
  },
  {
   "cell_type": "markdown",
   "id": "7afda6e3",
   "metadata": {},
   "source": [
    "## Conditonal statements\n",
    "- `if` - check if some criteria passes of a value\n",
    "- `elif` - come after a `if`, can't work without `if`\n",
    "- `else` - check if none of the criterias given in the `if`s and `elif`s don't pass, can't give any criteria, can't work without `if` or `elif`\n",
    "#### Format\n",
    "``` python\n",
    "if <conditon>:\n",
    "    <code to be performed>\n",
    "elif <condition>:\n",
    "    <code to be performed>\n",
    "else:\n",
    "    <code to be performed>\n",
    "```"
   ]
  },
  {
   "cell_type": "markdown",
   "id": "4fe8a047",
   "metadata": {},
   "source": [
    "## Loops\n",
    "- `while` - check some criteria and loop some code forever\n",
    "- `for` - does loop for certain times\n",
    "  - Start : Where to start (defualt is 0)\n",
    "  - Stop : Where to end (not included automatically)\n",
    "  - Step : How much to jump each time (defualt is 1)\n",
    "#### Format\n",
    "``` python\n",
    "while <condition>:\n",
    "    <code to be performed>\n",
    "for i in range(start, stop, step):\n",
    "    print(i)\n",
    "```\n"
   ]
  },
  {
   "cell_type": "markdown",
   "id": "a88b8ec9",
   "metadata": {},
   "source": [
    "## Functions\n",
    "#### Format\n",
    "``` python\n",
    "functionName(arguments)\n",
    "```\n",
    "- `print( )` : Print output\n",
    "- `type( )` : Prints data type of a variable\n",
    "#### Functions vary from libraries, these two are the most basic ones\n",
    "- You can create your own function using define.\n",
    "- Like: `def myfunction(args)`\n",
    "- Eg:\n",
    "``` python\n",
    "def footballer(name):\n",
    "    print(f\"Great player {name} is.\")\n",
    "footballer(name)\n",
    "```"
   ]
  },
  {
   "cell_type": "markdown",
   "id": "50c04425",
   "metadata": {},
   "source": [
    "### Dot operators\n",
    "- Used for accessing something inside a library, or object.\n",
    "- Also called - `attribute access operator`\n",
    "- Format: -\n",
    "``` python \n",
    "<some value>.<some other value>\n",
    "```\n",
    "- Eg:\n",
    "``` python\n",
    "class player:\n",
    "    def __init__(value, name, goals):\n",
    "        value.goals = goals\n",
    "        value.name = name\n",
    "ronaldo = player(\"Ronaldo\", 940)\n",
    "```\n",
    "  - or, with a library\n",
    "``` python\n",
    "import math\n",
    "square_root = math.sqrt(49)\n",
    "pi = math.pi\n",
    "```"
   ]
  },
  {
   "cell_type": "markdown",
   "id": "8ccc1897",
   "metadata": {},
   "source": [
    "### Indexing\n",
    "- Used for accessing value by number\n",
    "- Also called - `key access`\n",
    "- For elements in sequence\n",
    "- Format: -\n",
    "``` python\n",
    "<somevalue>['someothervalue']\n",
    "```\n",
    "- Eg:\n",
    "``` python\n",
    "players = [\"ronaldo\", \"messi\", \"neymar\"]\n",
    "print(player[0]) # ronaldo\n",
    "```\n"
   ]
  },
  {
   "cell_type": "markdown",
   "id": "f6c51f99",
   "metadata": {},
   "source": [
    "### Comments\n",
    "- Pieces of code ignored by interpreter.\n",
    "- Used for purposes like if working in team, you can write comments on the code and where it could be improved.\n",
    "- Also can be used for explaning code.\n",
    "- Types of comments:-\n",
    "  - Multi line : Can extend for more than one line, start with `'''` and end with `'''` or start with `\"\"\"` and end with `\"\"\"`\n",
    "  - Single line : Can work in only one line, start with `#`"
   ]
  },
  {
   "cell_type": "markdown",
   "id": "112e1c3f",
   "metadata": {},
   "source": [
    "# Practice time\n",
    "- Create a calculator for 2 numbers, supporting all arithmetic operations,\n",
    "- A index writer, user inputs number, program prints that index.\n",
    "- A sports stats syncer, user enter player name, program prints stats of that player.\n",
    "### Make all of these in [your_projects](your_projects/) folder."
   ]
  }
 ],
 "metadata": {
  "language_info": {
   "name": "python"
  }
 },
 "nbformat": 4,
 "nbformat_minor": 5
}
