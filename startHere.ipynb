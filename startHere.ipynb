{
 "cells": [
  {
   "cell_type": "markdown",
   "id": "43a5f0a4",
   "metadata": {},
   "source": [
    "# Welcome to the Agentic AI guide\n",
    "## Before getting to the coding part, do the following: -\n",
    "- Download Cursor IDE for easier coding : [Cursor](https://cursor.com/home?from=agents).\n",
    "- Download UV package manager : [Here](https://docs.astral.sh/uv/getting-started/installation/).\n",
    "- After install the package manager, go to your projects folder and run the command : `uv sync`.\n",
    "- Get an api key at - [OpenAI.ApiPlatform](https://platform.openai.com/api-keys), click create new secret key and reply to what it prompts/asks you.\n",
    "- Set api keys in a .env file, use the following format: `OPENAI_API_KEY=<your api key here>`."
   ]
  },
  {
   "cell_type": "markdown",
   "id": "0e63891d",
   "metadata": {},
   "source": [
    "## Congrats, now to the boring **theoretical** part, I'll keep it short and simple: -\n",
    "### 1. What are Agents?\n",
    "- An AI agent is a computer program that can observe its environment, make decisions, and take actions to achieve a goal.\n",
    "### 2. Where are they used?\n",
    "1. Chatbots & Virtual Assistants\n",
    "- Example: Siri, Alexa, ChatGPT\n",
    "- They understand your requests and respond.\n",
    "\n",
    "2. Self-Driving Cars\n",
    "- AI agents sense the environment, make decisions, and drive safely.\n",
    "\n",
    "3. Video Games\n",
    "- Non-player characters (NPCs) use AI agents to act smartly.\n",
    "\n",
    "4. Robotics\n",
    "- Robots in factories or homes decide what to do next.\n",
    "\n",
    "5. Recommendation Systems\n",
    "- Netflix, YouTube, and Amazon use AI agents to suggest videos or products.\n",
    "\n",
    "6. Finance & Trading\n",
    "- AI agents decide when to buy or sell stocks.\n",
    "\n",
    "7. Healthcare\n",
    "- AI agents help in diagnosing diseases or recommending treatments."
   ]
  },
  {
   "cell_type": "markdown",
   "id": "d009db44",
   "metadata": {},
   "source": [
    "| Aspect             | Generative AI (Gen AI)                                   | Agentic AI (AI Agents)                              |\n",
    "|--------------------|-----------------------------------------------------------|-----------------------------------------------------|\n",
    "| Main Goal          | Creates new content (text, images, code, etc.)            | Acts to achieve goals by making decisions and taking steps |\n",
    "| Core Ability       | Generation and transformation of data                     | Autonomy, reasoning, planning, and tool usage       |\n",
    "| Input → Output     | Prompt → Output                                           | Goal/Task → Sequence of actions + results           |\n",
    "| Example Models     | GPT, DALL·E, Stable Diffusion                             | AutoGPT, LangChain Agents, BabyAGI                  |\n",
    "| Dependence on User | Needs human prompts every time                            | Can operate semi-independently once given a goal    |\n",
    "| Scope              | Focused on content creation                               | Broader: can create, fetch info, run tools, call APIs|\n"
   ]
  },
  {
   "cell_type": "markdown",
   "id": "c376c7dd",
   "metadata": {},
   "source": [
    "## Now, before getting to the complex coding part, let me explain you simply how **OpenAI's API** works, don't get mesmerized by that word\n",
    "### APIs are basically services which can be called through code, now here we are talking about OpenAI's service of sending messages and getting reply to them.\n",
    "### In this guide you will learn to code in **python**, so let me teach you how to code OpenAI's api with explanation of each line."
   ]
  },
  {
   "cell_type": "code",
   "execution_count": 1,
   "id": "d707be8c",
   "metadata": {},
   "outputs": [],
   "source": [
    "# Before coding, let's import the necessary libraries\n",
    "import os\n",
    "from openai import OpenAI\n",
    "from dotenv import load_dotenv"
   ]
  },
  {
   "cell_type": "markdown",
   "id": "8fdc348d",
   "metadata": {},
   "source": [
    "## Each of these libraries are necessary for the code to work, let me explain each of them: -\n",
    "1. `os` - This is used to access the environment variables.\n",
    "2. `openai` - This is the main library to interact with OpenAI's api.\n",
    "3. `dotenv` - This is used to load the environment variables from the .env file you had created earlier.\n",
    "### Now, let's load the environment variables"
   ]
  },
  {
   "cell_type": "code",
   "execution_count": 4,
   "id": "5e12cf50",
   "metadata": {},
   "outputs": [
    {
     "data": {
      "text/plain": [
       "False"
      ]
     },
     "execution_count": 4,
     "metadata": {},
     "output_type": "execute_result"
    }
   ],
   "source": [
    "load_dotenv(override=True)\n",
    "# It loads the .env file and makes the environment variables available to the code.\n",
    "# The override=True is used to override the environment variables the false it may return if you haven't made the .env file."
   ]
  },
  {
   "cell_type": "code",
   "execution_count": 3,
   "id": "7fbe9d27",
   "metadata": {},
   "outputs": [],
   "source": [
    "api_key = os.getenv(\"OPENAI_API_KEY\")\n",
    "# It gets the api key from the .env file and makes it usable as a variable in the code"
   ]
  },
  {
   "cell_type": "code",
   "execution_count": null,
   "id": "41bf609f",
   "metadata": {},
   "outputs": [],
   "source": [
    "client = OpenAI(api_key=api_key) \n",
    "# This is the client object which we will use to interact with the OpenAI api."
   ]
  },
  {
   "cell_type": "code",
   "execution_count": null,
   "id": "45c44c79",
   "metadata": {},
   "outputs": [],
   "source": [
    "message = [{\"role\": \"user\", \"content\": \"Hello, how are you?\"}]"
   ]
  },
  {
   "cell_type": "markdown",
   "id": "001a6ec8",
   "metadata": {},
   "source": [
    "1. `message` - variable\n",
    "2. `\"role\"`  - role of the thing it is prompted by, here it is the `\"user\"` \n",
    "3. `\"content\"` - the content, or the prompt \n",
    "### All of this is put into an array (defined by [ ] ) with objects (defined by { } ) containing the above things."
   ]
  },
  {
   "cell_type": "code",
   "execution_count": null,
   "id": "3c639443",
   "metadata": {},
   "outputs": [],
   "source": [
    "response = client.chat.completions.create(\n",
    "    model=\"gpt-4o-mini\",\n",
    "    messages=message\n",
    ")"
   ]
  },
  {
   "cell_type": "markdown",
   "id": "292ac6a0",
   "metadata": {},
   "source": [
    "1. `response` - variable\n",
    "2. `client` - the connection we made to OpenAI earlier, saving it as client variable\n",
    "3. `chat` - according to the API, this refers to chat-style models, here we have used `\"gpt-4o-mini\"`, OpenAI's budget model.\n",
    "4. `completions` - telling the model to \"finish this text for me\"\n",
    "5. `create( )` - function call which sends the requests to OpenAI - containing the below things: -\n",
    "   - model - chat-style models\n",
    "   - messages - the message you want to send to the model, here we used `message` variable we made earlier and assigned to this argument\n",
    "#### `client.chat.completions.create( )` = *\"Hey OpenAI client, please create a new chat completion using the model I specify.\"* "
   ]
  },
  {
   "cell_type": "code",
   "execution_count": null,
   "id": "72ed68bd",
   "metadata": {},
   "outputs": [],
   "source": [
    "reply = response.choices[0].message.content\n",
    "print(reply, \"\\n\")"
   ]
  },
  {
   "cell_type": "markdown",
   "id": "be2f60de",
   "metadata": {},
   "source": [
    "1. `response` - the variable we assigned to the model's reply\n",
    "2. `choices` - models can return multiple possible combinations, most of the times these choices are only 1, having only one element\n",
    "3. `[0]` - grabbing the first completion in the `choices` list\n",
    "4. `message` - each completion has a message object, which looks like: -\n",
    "   ``` json\n",
    "   {\n",
    "    \"role\": \"assistant\",\n",
    "    \"content\": \"Hello, explain AI in one sentence\"\n",
    "   }\n",
    "   ```\n",
    "   Which looks familiar, as it is just like the structure of the `message` variable we made earlier.\n",
    "5. `content` - This is the actual text the model generated, the string you want to use in your program."
   ]
  },
  {
   "cell_type": "markdown",
   "id": "809eb304",
   "metadata": {},
   "source": [
    "### Now, if we pair this with IPython, we can display it in a suitable format, try it for your self"
   ]
  },
  {
   "cell_type": "code",
   "execution_count": null,
   "id": "1097b982",
   "metadata": {},
   "outputs": [],
   "source": [
    "from IPython.display import display, Markdown\n",
    "display(Markdown(reply))"
   ]
  },
  {
   "cell_type": "markdown",
   "id": "eeaccb4a",
   "metadata": {},
   "source": [
    "# Congrats again, you have now learnt the OpenAI API, you can now get an API key and do wonderful things, but before that, I have some exercises below, complete them for the better of you"
   ]
  },
  {
   "cell_type": "markdown",
   "id": "6cd3bf4a",
   "metadata": {},
   "source": [
    "### 1. Complete the below code"
   ]
  },
  {
   "cell_type": "code",
   "execution_count": null,
   "id": "718c25ef",
   "metadata": {},
   "outputs": [],
   "source": [
    "from openai import \n",
    "import os\n",
    "from dotenv import load_()\n",
    "load_()\n",
    "api_key=os.getenv(\"OPENAI_API_KEY\")\n",
    "client = Open(api_key=)\n",
    "response = client.chat.comple.create(\n",
    "    model=,\n",
    "    messages=\n",
    ")\n",
    "reply = response.choi[].mess.content\n",
    "print(reply)"
   ]
  },
  {
   "cell_type": "markdown",
   "id": "41e22533",
   "metadata": {},
   "source": [
    "# 2. Situation, create your own model\n",
    "## You’re building a study buddy app for yourself and your classmates. The idea is:\n",
    "### You type in a question like *“Explain photosynthesis in 3 points”*.\n",
    "### The app instantly replies with a clean, short answer.\n",
    "## Here’s where you need the OpenAI API:\n",
    "- Your app takes the question.\n",
    "- It sends the text to OpenAI’s chat.completions API.\n",
    "- The model (say `gpt-4o-mini`) generates the explanation.\n",
    "- Your app shows that back in a chat window.\n",
    "### So without the API, you’d have to handwrite every possible answer. With it, your app can answer any question dynamically."
   ]
  }
 ],
 "metadata": {
  "kernelspec": {
   "display_name": "Python 3",
   "language": "python",
   "name": "python3"
  },
  "language_info": {
   "codemirror_mode": {
    "name": "ipython",
    "version": 3
   },
   "file_extension": ".py",
   "mimetype": "text/x-python",
   "name": "python",
   "nbconvert_exporter": "python",
   "pygments_lexer": "ipython3",
   "version": "3.13.5"
  }
 },
 "nbformat": 4,
 "nbformat_minor": 5
}
