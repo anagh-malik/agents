{
 "cells": [
  {
   "cell_type": "markdown",
   "id": "43a5f0a4",
   "metadata": {},
   "source": [
    "# Welcome to the Agentic AI guide\n",
    "## Before getting to the coding part, do the following: -\n",
    "- Download Cursor IDE for easier coding : [Cursor](https://cursor.com/home?from=agents)\n",
    "- Download UV package manager : [Here](https://docs.astral.sh/uv/getting-started/installation/)\n",
    "- After install the package manager, go to your projects folder and run the command : `uv sync`\n",
    "- Get an api key at - [OpenAI.ApiPlatform](https://platform.openai.com/api-keys), click create new secret key and complete what it prompts you\n",
    "- Set api keys in a .env file, use the following format: `OPENAI_API_KEY=<your api key here>`"
   ]
  },
  {
   "cell_type": "markdown",
   "id": "0e63891d",
   "metadata": {},
   "source": [
    "## Congrats, now to the boring **theoretical** part, I'll keep it short and simple: -\n",
    "### 1. What are Agents?\n",
    "- An AI agent is a computer program that can observe its environment, make decisions, and take actions to achieve a goal.\n",
    "### 2. Where are they used?\n",
    "1. Chatbots & Virtual Assistants\n",
    "- Example: Siri, Alexa, ChatGPT\n",
    "- They understand your requests and respond.\n",
    "\n",
    "2. Self-Driving Cars\n",
    "- AI agents sense the environment, make decisions, and drive safely.\n",
    "\n",
    "3. Video Games\n",
    "- Non-player characters (NPCs) use AI agents to act smartly.\n",
    "\n",
    "4. Robotics\n",
    "- Robots in factories or homes decide what to do next.\n",
    "\n",
    "5. Recommendation Systems\n",
    "- Netflix, YouTube, and Amazon use AI agents to suggest videos or products.\n",
    "\n",
    "6. Finance & Trading\n",
    "- AI agents decide when to buy or sell stocks.\n",
    "\n",
    "7. Healthcare\n",
    "- AI agents help in diagnosing diseases or recommending treatments."
   ]
  },
  {
   "cell_type": "markdown",
   "id": "c376c7dd",
   "metadata": {},
   "source": [
    "## Now, before getting to the complex coding part, let me explain you simply how OpenAI's api works, don't get mesmerized by that word\n",
    "### APIs are basically services which can be called through code, now here we are talking about OpenAI's service of sending messages and getting reply to them.\n",
    "### In this guide you will learn to code in **python**, so let me teach you how to code OpenAI's api with explanation of each line."
   ]
  },
  {
   "cell_type": "code",
   "execution_count": 1,
   "id": "d707be8c",
   "metadata": {},
   "outputs": [],
   "source": [
    "# Before coding, let's import the necessary libraries\n",
    "import os\n",
    "from openai import OpenAI\n",
    "from dotenv import load_dotenv"
   ]
  },
  {
   "cell_type": "markdown",
   "id": "8fdc348d",
   "metadata": {},
   "source": [
    "# Explanation of the imports\n",
    "## Each of these libraries are necessary for the code to work, let me explain each of them: -\n",
    "1. `os` - This is used to access the environment variables.\n",
    "2. `openai` - This is the main library to interact with OpenAI's api.\n",
    "3. `dotenv` - This is used to load the environment variables from the .env file you had created earlier.\n",
    "### Now, let's load the environment variables"
   ]
  },
  {
   "cell_type": "code",
   "execution_count": 4,
   "id": "5e12cf50",
   "metadata": {},
   "outputs": [
    {
     "data": {
      "text/plain": [
       "False"
      ]
     },
     "execution_count": 4,
     "metadata": {},
     "output_type": "execute_result"
    }
   ],
   "source": [
    "load_dotenv(override=True)\n",
    "# It loads the .env file and makes the environment variables available to the code.\n",
    "# The override=True is used to override the environment variables the false it may return if you haven't made the .env file."
   ]
  },
  {
   "cell_type": "code",
   "execution_count": 3,
   "id": "7fbe9d27",
   "metadata": {},
   "outputs": [],
   "source": [
    "api_key = os.getenv(\"OPENAI_API_KEY\")\n",
    "# It gets the api key from the .env file and makes it usable as a variable in the code"
   ]
  },
  {
   "cell_type": "code",
   "execution_count": null,
   "id": "41bf609f",
   "metadata": {},
   "outputs": [],
   "source": [
    "client = OpenAI(api_key=api_key) \n",
    "# This is the client object which we will use to interact with the OpenAI api."
   ]
  },
  {
   "cell_type": "code",
   "execution_count": null,
   "id": "45c44c79",
   "metadata": {},
   "outputs": [],
   "source": [
    "message = [{\"role\": \"user\", \"content\": \"Hello, how are you?\"}]"
   ]
  },
  {
   "cell_type": "markdown",
   "id": "001a6ec8",
   "metadata": {},
   "source": [
    "## Explanation\n",
    "1. `message` - variable\n",
    "2. `\"role\"`  - role of the thing it is prompted by, here it is the `\"user\"` \n",
    "3. `\"content\"` - the content, or the prompt \n",
    "### All of this is put into an array (defined by [ ] ) with object (defined by { } ) containing the above things."
   ]
  }
 ],
 "metadata": {
  "kernelspec": {
   "display_name": "Python 3",
   "language": "python",
   "name": "python3"
  },
  "language_info": {
   "codemirror_mode": {
    "name": "ipython",
    "version": 3
   },
   "file_extension": ".py",
   "mimetype": "text/x-python",
   "name": "python",
   "nbconvert_exporter": "python",
   "pygments_lexer": "ipython3",
   "version": "3.13.5"
  }
 },
 "nbformat": 4,
 "nbformat_minor": 5
}
