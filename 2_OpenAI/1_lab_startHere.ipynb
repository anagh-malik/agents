{
 "cells": [
  {
   "cell_type": "markdown",
   "id": "ccda4824",
   "metadata": {},
   "source": [
    "# Welcome to the ***Second phase*** of learning **Agentic AI**"
   ]
  },
  {
   "cell_type": "markdown",
   "id": "08c06337",
   "metadata": {},
   "source": [
    "<table>\n",
    "    <tr>\n",
    "        <td>\n",
    "            <img src=\"assets/1_openai_SDK.png\" style=\"display: block;\">\n",
    "        </td>\n",
    "        <td style=\"padding: 30px;\">\n",
    "            <h2>The OpenAI SDK Docs</h2>\n",
    "            <br>\n",
    "            The documentation <strong>OpenAI</strong> has provided is really clear and simple, they have given a small guide on using their SDK, you can take a look but we will learn it here as well - <a href=\"https://openai.github.io/openai-agents-python/\">OpenAI SDK</a>\n",
    "        </td>\n",
    "    </tr>\n",
    "</table>"
   ]
  },
  {
   "cell_type": "code",
   "execution_count": null,
   "id": "d948526e",
   "metadata": {},
   "outputs": [],
   "source": [
    "from dotenv import load_dotenv\n",
    "from agents import Agent, Runner, trace\n",
    "\n",
    "# The imports"
   ]
  },
  {
   "cell_type": "code",
   "execution_count": null,
   "id": "54587419",
   "metadata": {},
   "outputs": [],
   "source": [
    "load_dotenv(override=True)"
   ]
  },
  {
   "cell_type": "code",
   "execution_count": null,
   "id": "a33b2639",
   "metadata": {},
   "outputs": [],
   "source": [
    "agent = Agent(name=\"Comedian\", instructions=\"You are a joke teller\", model=\"gpt-4o-mini\")"
   ]
  },
  {
   "cell_type": "markdown",
   "id": "643c6de2",
   "metadata": {},
   "source": [
    "- Now, what we have done is called the `Agent` function from the import of `agents` library we did earlier, and given it some arguments, customizing it.\n",
    "- We have given it a `name` which is `\"Comedian\"` and given it `instructions` which are `\"You are a joke teller\"`\n",
    "- And the usual thing we have given it the `model=\"gpt-4o-mini\"` for assigning the model to be used by the agent.\n",
    "- Basically, expanded form of the code:\n",
    "``` python\n",
    "agent = Agent(\n",
    "    name=\"Comedian\",\n",
    "    instructions=\"You are a joke teller\",\n",
    "    model=\"gpt-4o-mini\"\n",
    ")\n",
    "```"
   ]
  },
  {
   "cell_type": "code",
   "execution_count": null,
   "id": "fff7a3fe",
   "metadata": {},
   "outputs": [],
   "source": [
    "with trace(\"Telling a joke\"):\n",
    "    result = await Runner.run(agent, \"Tell me a joke about Autonomous AI Agents\")\n",
    "    print(result.final_output)"
   ]
  },
  {
   "cell_type": "markdown",
   "id": "c4bede08",
   "metadata": {},
   "source": [
    "- We have run the code using `Runner.run` with the arguments of `agent`, variable we made earlier to assign `Agent(..)`, with the joke being: `\"Tell me a joke about Autonomous AI Agents.\"`\n",
    "-  `final_output` is printed and traced.\n",
    "-  If you want to look at the trace, go to: \n",
    "   - <a href=\"https://platform.openai.com/traces\">OpenAI Agentic Traces</a>"
   ]
  },
  {
   "cell_type": "markdown",
   "id": "31c33979",
   "metadata": {},
   "source": [
    "- And, that's basically it, its very easy to use, and an easier way of making an Agent, throughout this chapter, we will use OpenAI SDK, making some complex things."
   ]
  },
  {
   "cell_type": "markdown",
   "id": "d54faa08",
   "metadata": {},
   "source": [
    "## [Ready?!](2_lab__.ipynb)"
   ]
  }
 ],
 "metadata": {
  "kernelspec": {
   "display_name": "agents",
   "language": "python",
   "name": "python3"
  },
  "language_info": {
   "name": "python",
   "version": "3.12.11"
  }
 },
 "nbformat": 4,
 "nbformat_minor": 5
}
